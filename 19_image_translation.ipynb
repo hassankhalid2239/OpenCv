{
 "cells": [
  {
   "cell_type": "code",
   "execution_count": 1,
   "id": "c19feac5-1ebb-4a11-a08d-192337cbc8cf",
   "metadata": {},
   "outputs": [],
   "source": [
    "import cv2\n",
    "import numpy as np"
   ]
  },
  {
   "cell_type": "code",
   "execution_count": 4,
   "id": "e551e1df-f0a4-43d2-b8fc-7dc6c2b51fd9",
   "metadata": {},
   "outputs": [
    {
     "name": "stdout",
     "output_type": "stream",
     "text": [
      "(500, 500, 3)\n"
     ]
    }
   ],
   "source": [
    "img=cv2.imread(\"images\\\\img4.png\")\n",
    "img=cv2.resize(img,(500,500))\n",
    "print(img.shape)\n",
    "\n",
    "m=np.float32([[1,0,100],[0,1,50]])\n",
    "\n",
    "new=cv2.warpAffine(img,m,(500,500))\n",
    "\n",
    "cv2.imshow(\"img\",img)\n",
    "cv2.imshow(\"m\",m)\n",
    "cv2.imshow(\"new\",new)\n",
    "cv2.waitKey(0)\n",
    "cv2.destroyAllWindows()"
   ]
  },
  {
   "cell_type": "code",
   "execution_count": null,
   "id": "ddcd285e-686b-42fd-8af8-8aa92bc4d477",
   "metadata": {},
   "outputs": [],
   "source": []
  }
 ],
 "metadata": {
  "kernelspec": {
   "display_name": "Python 3 (ipykernel)",
   "language": "python",
   "name": "python3"
  },
  "language_info": {
   "codemirror_mode": {
    "name": "ipython",
    "version": 3
   },
   "file_extension": ".py",
   "mimetype": "text/x-python",
   "name": "python",
   "nbconvert_exporter": "python",
   "pygments_lexer": "ipython3",
   "version": "3.10.13"
  }
 },
 "nbformat": 4,
 "nbformat_minor": 5
}

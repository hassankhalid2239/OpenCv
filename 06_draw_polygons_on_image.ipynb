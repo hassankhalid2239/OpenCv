{
 "cells": [
  {
   "cell_type": "code",
   "execution_count": 1,
   "id": "e86da1a8-6505-4e25-aac8-49d881b3621b",
   "metadata": {},
   "outputs": [],
   "source": [
    "import cv2\n",
    "import numpy as np"
   ]
  },
  {
   "cell_type": "code",
   "execution_count": 3,
   "id": "6f4dd2b2-d954-4d3f-afbe-7fabc39ac706",
   "metadata": {},
   "outputs": [],
   "source": [
    "old_img=cv2.imread(\"images\\\\img4.png\")\n",
    "old_img=cv2.resize(old_img,(500,600))\n",
    "\n",
    "new_img=cv2.polylines(img=old_img,\n",
    "                     pts=[np.array([[100,200],[150,100],[300,200],[300,500],[100,500]])],\n",
    "                     isClosed=True,\n",
    "                     color=(0,255,0),\n",
    "                     thickness=4,\n",
    "                     lineType=16)\n",
    "                      \n",
    "\n",
    "cv2.imshow(\"Window\",new_img)\n",
    "cv2.waitKey(0)\n",
    "cv2.destroyAllWindows()"
   ]
  },
  {
   "cell_type": "code",
   "execution_count": 4,
   "id": "080e5e9a-9730-4710-b169-9bbde5b83ffc",
   "metadata": {},
   "outputs": [],
   "source": [
    "old_img=cv2.imread(\"images\\\\img4.png\")\n",
    "old_img=cv2.resize(old_img,(500,600))\n",
    "\n",
    "new_img=cv2.polylines(img=old_img,\n",
    "                     pts=[np.array([[100,200],[150,100],[300,200],[300,500],[100,500]])],\n",
    "                     isClosed=False,\n",
    "                     color=(0,255,0),\n",
    "                     thickness=4,\n",
    "                     lineType=16)\n",
    "                      \n",
    "\n",
    "cv2.imshow(\"Window\",new_img)\n",
    "cv2.waitKey(0)\n",
    "cv2.destroyAllWindows()"
   ]
  },
  {
   "cell_type": "code",
   "execution_count": null,
   "id": "5a230cbb-7d6d-4982-b375-bb24e1497916",
   "metadata": {},
   "outputs": [],
   "source": []
  },
  {
   "cell_type": "code",
   "execution_count": null,
   "id": "d7f8953f-af43-4a3d-ac3d-07b18b260e09",
   "metadata": {},
   "outputs": [],
   "source": []
  }
 ],
 "metadata": {
  "kernelspec": {
   "display_name": "Python 3 (ipykernel)",
   "language": "python",
   "name": "python3"
  },
  "language_info": {
   "codemirror_mode": {
    "name": "ipython",
    "version": 3
   },
   "file_extension": ".py",
   "mimetype": "text/x-python",
   "name": "python",
   "nbconvert_exporter": "python",
   "pygments_lexer": "ipython3",
   "version": "3.10.13"
  }
 },
 "nbformat": 4,
 "nbformat_minor": 5
}

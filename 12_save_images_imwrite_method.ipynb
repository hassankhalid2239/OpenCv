{
 "cells": [
  {
   "cell_type": "code",
   "execution_count": 1,
   "id": "1356d545-4a37-4bad-8e54-fbc5dc8dbd71",
   "metadata": {},
   "outputs": [],
   "source": [
    "import cv2\n",
    "import numpy as np"
   ]
  },
  {
   "cell_type": "code",
   "execution_count": 4,
   "id": "1f9b15f7-2c81-445e-825e-8f750a55e184",
   "metadata": {},
   "outputs": [],
   "source": [
    "img=cv2.imread(\"images\\\\img6.png\")\n",
    "res_img=cv2.resize(img,(300,300))\n",
    "\n",
    "h=np.hstack((res_img,res_img))\n",
    "v=np.vstack((h,h))\n",
    "\n",
    "cv2.imwrite(\"new_img1.png\",v)\n",
    "\n",
    "cv2.imshow(\"Window\",v)\n",
    "cv2.waitKey(0)\n",
    "cv2.destroyAllWindows()"
   ]
  },
  {
   "cell_type": "code",
   "execution_count": null,
   "id": "c5a6d44e-38a8-46da-a3d4-ec1b3242f460",
   "metadata": {},
   "outputs": [],
   "source": []
  },
  {
   "cell_type": "code",
   "execution_count": null,
   "id": "f7b35c0f-8ba2-4345-ba18-56b8602a030f",
   "metadata": {},
   "outputs": [],
   "source": []
  }
 ],
 "metadata": {
  "kernelspec": {
   "display_name": "Python 3 (ipykernel)",
   "language": "python",
   "name": "python3"
  },
  "language_info": {
   "codemirror_mode": {
    "name": "ipython",
    "version": 3
   },
   "file_extension": ".py",
   "mimetype": "text/x-python",
   "name": "python",
   "nbconvert_exporter": "python",
   "pygments_lexer": "ipython3",
   "version": "3.10.13"
  }
 },
 "nbformat": 4,
 "nbformat_minor": 5
}

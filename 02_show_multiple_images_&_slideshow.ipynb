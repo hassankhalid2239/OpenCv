{
 "cells": [
  {
   "cell_type": "code",
   "execution_count": 13,
   "id": "7db19741-87f9-4d9a-b59a-d9b19d35c694",
   "metadata": {},
   "outputs": [],
   "source": [
    "import numpy as np\n",
    "import cv2\n",
    "import os"
   ]
  },
  {
   "cell_type": "code",
   "execution_count": 3,
   "id": "83496db4-70ea-48fe-9b0e-254eece00dc8",
   "metadata": {},
   "outputs": [],
   "source": [
    "img=cv2.imread(\"images/img4.png\")\n",
    "re_img=cv2.resize(img,(500,700))\n",
    "cv2.imshow(\"Window\",re_img)\n",
    "cv2.waitKey(0)\n",
    "cv2.destroyAllWindows()"
   ]
  },
  {
   "cell_type": "code",
   "execution_count": 6,
   "id": "df88bce5-50e7-4548-8990-ea2f02f945d5",
   "metadata": {},
   "outputs": [
    {
     "data": {
      "text/plain": [
       "array([[1, 2, 3, 1, 2, 3],\n",
       "       [1, 2, 3, 1, 2, 3]])"
      ]
     },
     "execution_count": 6,
     "metadata": {},
     "output_type": "execute_result"
    }
   ],
   "source": [
    "v=np.array([[1,2,3,1,2,3],[1,2,3,1,2,3]])\n",
    "v"
   ]
  },
  {
   "cell_type": "code",
   "execution_count": 7,
   "id": "407cf025-ea36-4761-8e9a-35d147bfd905",
   "metadata": {},
   "outputs": [
    {
     "data": {
      "text/plain": [
       "array([[1, 2, 3, 1, 2, 3, 1, 2, 3, 1, 2, 3],\n",
       "       [1, 2, 3, 1, 2, 3, 1, 2, 3, 1, 2, 3]])"
      ]
     },
     "execution_count": 7,
     "metadata": {},
     "output_type": "execute_result"
    }
   ],
   "source": [
    "np.hstack((v,v))   # horizontal join"
   ]
  },
  {
   "cell_type": "code",
   "execution_count": 8,
   "id": "f74552d8-efe6-4228-bfd1-752fa764f868",
   "metadata": {},
   "outputs": [
    {
     "data": {
      "text/plain": [
       "array([[1, 2, 3, 1, 2, 3],\n",
       "       [1, 2, 3, 1, 2, 3],\n",
       "       [1, 2, 3, 1, 2, 3],\n",
       "       [1, 2, 3, 1, 2, 3]])"
      ]
     },
     "execution_count": 8,
     "metadata": {},
     "output_type": "execute_result"
    }
   ],
   "source": [
    "np.vstack((v,v))"
   ]
  },
  {
   "cell_type": "code",
   "execution_count": 5,
   "id": "84463b56-24ac-4b8c-891a-05730514b09c",
   "metadata": {},
   "outputs": [
    {
     "name": "stdout",
     "output_type": "stream",
     "text": [
      "[[[ 30  30  30]\n",
      "  [ 30  30  30]\n",
      "  [ 31  31  30]\n",
      "  ...\n",
      "  [ 31  31  29]\n",
      "  [ 32  32  30]\n",
      "  [ 32  32  30]]\n",
      "\n",
      " [[ 23  21  22]\n",
      "  [  0   0   0]\n",
      "  [  0   0   0]\n",
      "  ...\n",
      "  [  0   0   0]\n",
      "  [  0   0   0]\n",
      "  [ 34  35  32]]\n",
      "\n",
      " [[ 41  39  38]\n",
      "  [ 83  82  80]\n",
      "  [102 102  99]\n",
      "  ...\n",
      "  [ 82  82  80]\n",
      "  [ 59  59  57]\n",
      "  [ 25  26  23]]\n",
      "\n",
      " ...\n",
      "\n",
      " [[ 56  44  32]\n",
      "  [ 66  54  44]\n",
      "  [ 76  64  55]\n",
      "  ...\n",
      "  [186 179 163]\n",
      "  [121 114  98]\n",
      "  [  0   0   0]]\n",
      "\n",
      " [[ 72  51  29]\n",
      "  [ 78  57  35]\n",
      "  [ 84  63  42]\n",
      "  ...\n",
      "  [190 170 148]\n",
      "  [120 100  79]\n",
      "  [ 17   0   0]]\n",
      "\n",
      " [[ 87  57  23]\n",
      "  [ 88  57  25]\n",
      "  [ 93  62  30]\n",
      "  ...\n",
      "  [165 133 100]\n",
      "  [118  86  55]\n",
      "  [ 53  21   0]]]\n"
     ]
    }
   ],
   "source": [
    "img=cv2.imread(\"images/img4.png\")\n",
    "print(img) #RGB"
   ]
  },
  {
   "cell_type": "code",
   "execution_count": 11,
   "id": "c8feba2c-20a9-47e5-99c7-4554a94b6285",
   "metadata": {},
   "outputs": [],
   "source": [
    "img=cv2.imread(\"images/img6.png\")\n",
    "re_img=cv2.resize(img,(300,500))\n",
    "# h=np.hstack((re_img,re_img))  # Horizintal join\n",
    "v=np.vstack((re_img,re_img))   # Vertical join\n",
    "cv2.imshow(\"Window\",v)\n",
    "cv2.waitKey(0)\n",
    "cv2.destroyAllWindows()"
   ]
  },
  {
   "cell_type": "code",
   "execution_count": 12,
   "id": "f6c44d04-afe0-44d5-8c63-3030d8201bdd",
   "metadata": {},
   "outputs": [],
   "source": [
    "img=cv2.imread(\"images/img6.png\")\n",
    "re_img=cv2.resize(img,(300,300))\n",
    "h=np.hstack((re_img,re_img))  # Horizintal join\n",
    "v=np.vstack((h,h))   # Vertical join\n",
    "cv2.imshow(\"Window\",v)\n",
    "cv2.waitKey(0)\n",
    "cv2.destroyAllWindows()"
   ]
  },
  {
   "cell_type": "code",
   "execution_count": 19,
   "id": "86af77fa-1f5a-45fd-a3ec-d1173c529e70",
   "metadata": {},
   "outputs": [],
   "source": [
    "list_name=os.listdir(\"images\\\\\")\n",
    "for name in list_name:\n",
    "    path=\"images\\\\\"\n",
    "    img_name=path + \"\\\\\" + name\n",
    "    img=cv2.imread(img_name)\n",
    "    img=cv2.resize(img,(500,600))\n",
    "    cv2.imshow(\"Window\",img)\n",
    "    cv2.waitKey(0)\n",
    "cv2.destroyAllWindows()"
   ]
  },
  {
   "cell_type": "code",
   "execution_count": null,
   "id": "c3b064c2-7700-41b8-8ad5-16729cf53e89",
   "metadata": {},
   "outputs": [],
   "source": []
  }
 ],
 "metadata": {
  "kernelspec": {
   "display_name": "Python 3 (ipykernel)",
   "language": "python",
   "name": "python3"
  },
  "language_info": {
   "codemirror_mode": {
    "name": "ipython",
    "version": 3
   },
   "file_extension": ".py",
   "mimetype": "text/x-python",
   "name": "python",
   "nbconvert_exporter": "python",
   "pygments_lexer": "ipython3",
   "version": "3.10.13"
  }
 },
 "nbformat": 4,
 "nbformat_minor": 5
}

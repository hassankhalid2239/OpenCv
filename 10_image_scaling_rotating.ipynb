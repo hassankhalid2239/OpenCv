{
 "cells": [
  {
   "cell_type": "code",
   "execution_count": 1,
   "id": "d01015e8-2b6d-4a37-bb63-2f0452ed34b7",
   "metadata": {},
   "outputs": [],
   "source": [
    "import cv2\n",
    "import numpy as np"
   ]
  },
  {
   "cell_type": "code",
   "execution_count": 3,
   "id": "86145c02-28aa-4d01-b286-a7c2c11c3736",
   "metadata": {},
   "outputs": [],
   "source": [
    "org_img=cv2.imread(\"images\\\\img6.png\")\n",
    "res_img=cv2.resize(org_img,(500,500))\n",
    "w,h=res_img.shape[0],res_img.shape[1]\n",
    "\n",
    "m=cv2.getRotationMatrix2D((w/2,h/2),50,1)\n",
    "new_img=cv2.warpAffine(res_img,m,(h,w))\n",
    "\n",
    "h=np.hstack((res_img,new_img))\n",
    "cv2.imshow(\"Window1\",h)\n",
    "\n",
    "cv2.waitKey(0)\n",
    "cv2.destroyAllWindows()"
   ]
  },
  {
   "cell_type": "code",
   "execution_count": null,
   "id": "3139e243-b6f2-4688-97ed-d1782c75b495",
   "metadata": {},
   "outputs": [],
   "source": []
  }
 ],
 "metadata": {
  "kernelspec": {
   "display_name": "Python 3 (ipykernel)",
   "language": "python",
   "name": "python3"
  },
  "language_info": {
   "codemirror_mode": {
    "name": "ipython",
    "version": 3
   },
   "file_extension": ".py",
   "mimetype": "text/x-python",
   "name": "python",
   "nbconvert_exporter": "python",
   "pygments_lexer": "ipython3",
   "version": "3.10.13"
  }
 },
 "nbformat": 4,
 "nbformat_minor": 5
}

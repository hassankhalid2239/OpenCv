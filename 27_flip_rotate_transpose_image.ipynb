{
 "cells": [
  {
   "cell_type": "code",
   "execution_count": 1,
   "id": "865f2efa-fbc1-4241-a37d-ef24a03e297f",
   "metadata": {},
   "outputs": [],
   "source": [
    "import cv2\n",
    "import numpy as np"
   ]
  },
  {
   "cell_type": "code",
   "execution_count": 6,
   "id": "7a978f94-704c-4008-9d5e-2ee07b5de6e9",
   "metadata": {},
   "outputs": [
    {
     "name": "stdout",
     "output_type": "stream",
     "text": [
      "(500, 500, 3)\n"
     ]
    }
   ],
   "source": [
    "img=cv2.imread(\"images\\\\img6.png\")\n",
    "img=cv2.resize(img,(500,500))\n",
    "print(img.shape)\n",
    "\n",
    "# img=cv2.flip(img,1)   # y axis\n",
    "# img=cv2.flip(img,0)     # x axis\n",
    "# img=cv2.flip(img,-1)    # x,y axis\n",
    "\n",
    "# img= cv2.rotate(img,cv2.ROTATE_90_COUNTERCLOCKWISE)\n",
    "\n",
    "img = cv2.transpose(img)\n",
    "\n",
    "\n",
    "cv2.imshow(\"Window1\",img)\n",
    "cv2.waitKey(0)\n",
    "cv2.destroyAllWindows()"
   ]
  },
  {
   "cell_type": "code",
   "execution_count": null,
   "id": "1ab4f17c-ba9a-4568-a8c3-9602eb62305d",
   "metadata": {},
   "outputs": [],
   "source": []
  }
 ],
 "metadata": {
  "kernelspec": {
   "display_name": "Python 3 (ipykernel)",
   "language": "python",
   "name": "python3"
  },
  "language_info": {
   "codemirror_mode": {
    "name": "ipython",
    "version": 3
   },
   "file_extension": ".py",
   "mimetype": "text/x-python",
   "name": "python",
   "nbconvert_exporter": "python",
   "pygments_lexer": "ipython3",
   "version": "3.10.13"
  }
 },
 "nbformat": 4,
 "nbformat_minor": 5
}

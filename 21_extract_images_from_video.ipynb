{
 "cells": [
  {
   "cell_type": "code",
   "execution_count": 1,
   "id": "7044cf98-5da9-4260-83f7-bf7f90d5d6c6",
   "metadata": {},
   "outputs": [],
   "source": [
    "import cv2\n",
    "import numpy as np"
   ]
  },
  {
   "cell_type": "code",
   "execution_count": 4,
   "id": "b56f6ba5-0583-43ec-8a0d-6d0c68d05e21",
   "metadata": {},
   "outputs": [],
   "source": [
    "cap=cv2.VideoCapture(\"images\\\\tom.avi\")\n",
    "c=0\n",
    "while True:\n",
    "    r,frame=cap.read()\n",
    "    if r==True:\n",
    "        filename=\"images\\\\frames\\\\org_img_\"+str(c)+\".png\"\n",
    "        cv2.imwrite(filename,frame)\n",
    "        cv2.imshow(\"Window\",frame)\n",
    "        c=c+1\n",
    "        if cv2.waitKey(25) & 0xff ==ord(\"p\"):\n",
    "            break\n",
    "    else:\n",
    "        break\n",
    "cap.release()\n",
    "cv2.destroyAllWindows()"
   ]
  },
  {
   "cell_type": "code",
   "execution_count": null,
   "id": "b244931d-d104-44c0-8877-44e442adb838",
   "metadata": {},
   "outputs": [],
   "source": []
  }
 ],
 "metadata": {
  "kernelspec": {
   "display_name": "Python 3 (ipykernel)",
   "language": "python",
   "name": "python3"
  },
  "language_info": {
   "codemirror_mode": {
    "name": "ipython",
    "version": 3
   },
   "file_extension": ".py",
   "mimetype": "text/x-python",
   "name": "python",
   "nbconvert_exporter": "python",
   "pygments_lexer": "ipython3",
   "version": "3.10.13"
  }
 },
 "nbformat": 4,
 "nbformat_minor": 5
}

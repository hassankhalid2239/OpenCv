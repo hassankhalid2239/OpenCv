{
 "cells": [
  {
   "cell_type": "code",
   "execution_count": 9,
   "id": "fd577c11-de2b-48fe-a86f-dff971a970d7",
   "metadata": {},
   "outputs": [],
   "source": [
    "import cv2"
   ]
  },
  {
   "cell_type": "code",
   "execution_count": 10,
   "id": "b29bdc9e-ed24-40da-8869-bd457bbeed1c",
   "metadata": {},
   "outputs": [
    {
     "name": "stdout",
     "output_type": "stream",
     "text": [
      "(955, 697, 3)\n"
     ]
    }
   ],
   "source": [
    "img=cv2.imread(\"images/img1.png\", 1) # read BGR img(by default)\n",
    "print(img.shape)"
   ]
  },
  {
   "cell_type": "code",
   "execution_count": 11,
   "id": "42964526-e325-4af2-8e80-98a2567fd9fc",
   "metadata": {},
   "outputs": [
    {
     "name": "stdout",
     "output_type": "stream",
     "text": [
      "(955, 697)\n"
     ]
    }
   ],
   "source": [
    "img=cv2.imread(\"images/img1.png\", 0) # read Grayscale img\n",
    "print(img.shape)"
   ]
  },
  {
   "cell_type": "code",
   "execution_count": 12,
   "id": "8602a1ac-e8be-46c8-b588-c325dccba9eb",
   "metadata": {},
   "outputs": [
    {
     "name": "stdout",
     "output_type": "stream",
     "text": [
      "(955, 697, 4)\n"
     ]
    }
   ],
   "source": [
    "img=cv2.imread(\"images/img1.png\", -1) # read BGR img with aipha channel\n",
    "print(img.shape)"
   ]
  },
  {
   "cell_type": "code",
   "execution_count": 7,
   "id": "d7a5bcd2-a220-47d0-8952-a11fdc22d7b9",
   "metadata": {},
   "outputs": [],
   "source": [
    "img=cv2.imread(\"images/img1.png\")    # image read\n",
    "cv2.imshow(\"Window\", img)    # image show\n",
    "cv2.waitKey(0)    # image frame wait time -ms and 0 pass keyboard any key press\n",
    "# cv2.destroyWindow()     # only one window close\n",
    "cv2.destroyAllWindows()     # all window close"
   ]
  },
  {
   "cell_type": "code",
   "execution_count": 8,
   "id": "55c3e84d-1d80-4f03-9576-df51af85bcfc",
   "metadata": {},
   "outputs": [],
   "source": [
    "img=cv2.imread(\"images/img1.png\")    # image read\n",
    "img1=cv2.imread(\"images/img2.png\")    # image read\n",
    "cv2.imshow(\"Window\", img)    # image show\n",
    "cv2.imshow(\"Window1\", img1)    # image show\n",
    "cv2.waitKey(0)    # image frame wait time -ms and 0 pass keyboard any key press\n",
    "# cv2.destroyWindow()     # only one window close\n",
    "cv2.destroyAllWindows()     # all window close"
   ]
  },
  {
   "cell_type": "code",
   "execution_count": null,
   "id": "8c1cc606-407b-4fdf-91ae-4bd5046adfc9",
   "metadata": {},
   "outputs": [],
   "source": []
  }
 ],
 "metadata": {
  "kernelspec": {
   "display_name": "Python 3 (ipykernel)",
   "language": "python",
   "name": "python3"
  },
  "language_info": {
   "codemirror_mode": {
    "name": "ipython",
    "version": 3
   },
   "file_extension": ".py",
   "mimetype": "text/x-python",
   "name": "python",
   "nbconvert_exporter": "python",
   "pygments_lexer": "ipython3",
   "version": "3.10.13"
  }
 },
 "nbformat": 4,
 "nbformat_minor": 5
}

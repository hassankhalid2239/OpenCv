{
 "cells": [
  {
   "cell_type": "code",
   "execution_count": 1,
   "id": "8a1278ad-99b7-4dcd-9075-ff49efceaee3",
   "metadata": {},
   "outputs": [],
   "source": [
    "import cv2\n",
    "import numpy as np"
   ]
  },
  {
   "cell_type": "code",
   "execution_count": null,
   "id": "43055978-813c-4129-9c7f-aa26fcda24d8",
   "metadata": {},
   "outputs": [],
   "source": [
    "org_img=cv2.imread(\"images\\\\img7.png\")\n",
    "res_img=cv2.resize(org_img,(300,300))\n",
    "\n",
    "blur=cv2.blur(res_img,(5,5))\n",
    "g=cv2.GaussianBlur(res_img,(5,5),0)\n",
    "m=cv2.medianBlur(res_img,5)\n",
    "b=cv2.bilateralFilter(res_img,10,100,100)\n",
    "\n",
    "\n",
    "h=np.hstack((res_img,g,m,b))\n",
    "cv2.imshow(\"Window\",h)\n",
    "cv2.waitKey(0)\n",
    "cv2.destroyAllWindows()"
   ]
  },
  {
   "cell_type": "code",
   "execution_count": null,
   "id": "22863e92-b533-43f6-bef9-0eab2fa36904",
   "metadata": {},
   "outputs": [],
   "source": []
  }
 ],
 "metadata": {
  "kernelspec": {
   "display_name": "ml_env",
   "language": "python",
   "name": "python3"
  },
  "language_info": {
   "codemirror_mode": {
    "name": "ipython",
    "version": 3
   },
   "file_extension": ".py",
   "mimetype": "text/x-python",
   "name": "python",
   "nbconvert_exporter": "python",
   "pygments_lexer": "ipython3",
   "version": "3.10.13"
  }
 },
 "nbformat": 4,
 "nbformat_minor": 5
}

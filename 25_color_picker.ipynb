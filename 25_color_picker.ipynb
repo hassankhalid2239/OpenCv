{
 "cells": [
  {
   "cell_type": "code",
   "execution_count": 1,
   "id": "4cdb065b-8563-4525-bfff-d01bd5266c9e",
   "metadata": {},
   "outputs": [],
   "source": [
    "import cv2\n",
    "import numpy as np"
   ]
  },
  {
   "cell_type": "code",
   "execution_count": 2,
   "id": "bd54097d-bd40-4560-9dcd-e00dc138e169",
   "metadata": {},
   "outputs": [],
   "source": [
    "def onchange(x):\n",
    "    pass"
   ]
  },
  {
   "cell_type": "code",
   "execution_count": 7,
   "id": "a35e20d2-f78b-4b1e-a2c0-48d4e79b841e",
   "metadata": {},
   "outputs": [],
   "source": [
    "img=np.zeros((500,500,3),np.uint8)*255\n",
    "cv2.namedWindow(\"Color\")\n",
    "\n",
    "cv2.createTrackbar(\"R\",\"Color\",0,255,onchange)\n",
    "cv2.createTrackbar(\"G\",\"Color\",0,255,onchange)\n",
    "cv2.createTrackbar(\"B\",\"Color\",0,255,onchange)\n",
    "\n",
    "while True:\n",
    "    cv2.imshow(\"Color\",img)\n",
    "    if cv2.waitKey(1) & 0xff ==ord(\"p\"):\n",
    "        break\n",
    "    r=cv2.getTrackbarPos(\"R\",\"Color\")\n",
    "    g=cv2.getTrackbarPos(\"G\",\"Color\")\n",
    "    b=cv2.getTrackbarPos(\"B\",\"Color\")\n",
    "\n",
    "    img[:]=[b,g,r]\n",
    "\n",
    "cv2.destroyAllWindows()"
   ]
  },
  {
   "cell_type": "code",
   "execution_count": null,
   "id": "bb438f58-172b-4617-a22e-94ad096957ad",
   "metadata": {},
   "outputs": [],
   "source": []
  }
 ],
 "metadata": {
  "kernelspec": {
   "display_name": "Python 3 (ipykernel)",
   "language": "python",
   "name": "python3"
  },
  "language_info": {
   "codemirror_mode": {
    "name": "ipython",
    "version": 3
   },
   "file_extension": ".py",
   "mimetype": "text/x-python",
   "name": "python",
   "nbconvert_exporter": "python",
   "pygments_lexer": "ipython3",
   "version": "3.10.13"
  }
 },
 "nbformat": 4,
 "nbformat_minor": 5
}

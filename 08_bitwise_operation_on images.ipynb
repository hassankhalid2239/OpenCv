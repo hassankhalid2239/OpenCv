{
 "cells": [
  {
   "cell_type": "code",
   "execution_count": 1,
   "id": "60db2d10-01b2-4789-bc41-08835c1ce1b2",
   "metadata": {},
   "outputs": [],
   "source": [
    "import cv2\n",
    "import numpy as np"
   ]
  },
  {
   "cell_type": "code",
   "execution_count": 8,
   "id": "652ab3a5-eaef-453d-b372-be50ec8f74bf",
   "metadata": {},
   "outputs": [],
   "source": [
    "img1=cv2.imread(\"images\\\\imgbw.png\")\n",
    "img2=cv2.imread(\"images\\\\imgbw2.png\")\n",
    "\n",
    "img1=cv2.resize(img1,(400,400))\n",
    "img2=cv2.resize(img2,(400,400))\n",
    "\n",
    "new_img=cv2.bitwise_and(img1,img2)\n",
    "\n",
    "h=np.hstack((img1,img2,new_img))\n",
    "\n",
    "cv2.imshow(\"Window\",h)\n",
    "cv2.waitKey(0)\n",
    "cv2.destroyAllWindows()"
   ]
  },
  {
   "cell_type": "code",
   "execution_count": 9,
   "id": "d8eb081a-c622-4cd3-90eb-07fed0c11cd5",
   "metadata": {},
   "outputs": [],
   "source": [
    "img1=cv2.imread(\"images\\\\imgbw.png\")\n",
    "img2=cv2.imread(\"images\\\\imgbw2.png\")\n",
    "\n",
    "img1=cv2.resize(img1,(400,400))\n",
    "img2=cv2.resize(img2,(400,400))\n",
    "\n",
    "new_img=cv2.bitwise_or(img1,img2)\n",
    "\n",
    "h=np.hstack((img1,img2,new_img))\n",
    "\n",
    "cv2.imshow(\"Window\",h)\n",
    "cv2.waitKey(0)\n",
    "cv2.destroyAllWindows()"
   ]
  },
  {
   "cell_type": "code",
   "execution_count": 10,
   "id": "2295b1eb-08da-440a-bf9b-bb807db3d63a",
   "metadata": {},
   "outputs": [],
   "source": [
    "img1=cv2.imread(\"images\\\\imgbw.png\")\n",
    "img2=cv2.imread(\"images\\\\imgbw2.png\")\n",
    "\n",
    "img1=cv2.resize(img1,(400,400))\n",
    "img2=cv2.resize(img2,(400,400))\n",
    "\n",
    "new_img=cv2.bitwise_xor(img1,img2)\n",
    "\n",
    "h=np.hstack((img1,img2,new_img))\n",
    "\n",
    "cv2.imshow(\"Window\",h)\n",
    "cv2.waitKey(0)\n",
    "cv2.destroyAllWindows()"
   ]
  },
  {
   "cell_type": "code",
   "execution_count": 14,
   "id": "eccfebeb-923c-44b8-9eb3-b2c8a1f2ba43",
   "metadata": {},
   "outputs": [],
   "source": [
    "img1=cv2.imread(\"images\\\\imgbw.png\")\n",
    "img2=cv2.imread(\"images\\\\imgbw2.png\")\n",
    "\n",
    "img1=cv2.resize(img1,(300,300))\n",
    "img2=cv2.resize(img2,(300,300))\n",
    "\n",
    "new=cv2.bitwise_not(img1)\n",
    "new2=cv2.bitwise_not(img2)\n",
    "\n",
    "h=np.hstack((img1,new))\n",
    "h1=np.hstack((img2,new2))\n",
    "\n",
    "v=np.vstack((h,h1))\n",
    "\n",
    "cv2.imshow(\"Window\",v)\n",
    "cv2.waitKey(0)\n",
    "cv2.destroyAllWindows()"
   ]
  },
  {
   "cell_type": "code",
   "execution_count": 15,
   "id": "301cb445-b7fc-4240-bf94-572f1fecaa76",
   "metadata": {},
   "outputs": [],
   "source": [
    "img1=cv2.imread(\"images\\\\img3.png\")\n",
    "\n",
    "img1=cv2.resize(img1,(300,300))\n",
    "\n",
    "new=cv2.bitwise_not(img1)\n",
    "\n",
    "\n",
    "cv2.imshow(\"Window\",new)\n",
    "cv2.waitKey(0)\n",
    "cv2.destroyAllWindows()"
   ]
  },
  {
   "cell_type": "code",
   "execution_count": 16,
   "id": "97f65bdb-ec13-4ea1-bfbf-fbc9a6d4ae10",
   "metadata": {},
   "outputs": [],
   "source": [
    "img1=cv2.imread(\"images\\\\img3.png\")\n",
    "img2=cv2.imread(\"images\\\\img4.png\")\n",
    "\n",
    "img1=cv2.resize(img1,(300,300))\n",
    "img2=cv2.resize(img2,(300,300))\n",
    "\n",
    "new=cv2.bitwise_and(img1,img2)\n",
    "h=np.hstack((img1,img2,new))\n",
    "\n",
    "cv2.imshow(\"Window\",h)\n",
    "cv2.waitKey(0)\n",
    "cv2.destroyAllWindows()"
   ]
  },
  {
   "cell_type": "code",
   "execution_count": null,
   "id": "e56d2251-d9e1-4b85-8fbb-50600f30db0f",
   "metadata": {},
   "outputs": [],
   "source": []
  }
 ],
 "metadata": {
  "kernelspec": {
   "display_name": "Python 3 (ipykernel)",
   "language": "python",
   "name": "python3"
  },
  "language_info": {
   "codemirror_mode": {
    "name": "ipython",
    "version": 3
   },
   "file_extension": ".py",
   "mimetype": "text/x-python",
   "name": "python",
   "nbconvert_exporter": "python",
   "pygments_lexer": "ipython3",
   "version": "3.10.13"
  }
 },
 "nbformat": 4,
 "nbformat_minor": 5
}

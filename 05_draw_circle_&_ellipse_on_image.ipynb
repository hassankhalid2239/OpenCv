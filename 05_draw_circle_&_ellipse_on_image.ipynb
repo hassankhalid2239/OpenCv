{
 "cells": [
  {
   "cell_type": "code",
   "execution_count": 1,
   "id": "0b1b020a-7491-4878-a92d-cdbee5f49d03",
   "metadata": {},
   "outputs": [],
   "source": [
    "import cv2"
   ]
  },
  {
   "cell_type": "code",
   "execution_count": 4,
   "id": "36053901-7577-4b25-92f2-e1d33651cf2f",
   "metadata": {},
   "outputs": [],
   "source": [
    "old_img=cv2.imread(\"images\\\\img4.png\")\n",
    "old_img=cv2.resize(old_img,(500,600))\n",
    "\n",
    "new_img=cv2.circle(img=old_img, \n",
    "                 radius=100,\n",
    "                 center=(270,180),\n",
    "                 color=(0,255,0),\n",
    "                 thickness=4,\n",
    "                 # thickness=-1, # color fill in circle\n",
    "                 lineType=16)\n",
    "\n",
    "cv2.imshow(\"Window\",new_img)\n",
    "cv2.waitKey(0)\n",
    "cv2.destroyAllWindows()"
   ]
  },
  {
   "cell_type": "code",
   "execution_count": 7,
   "id": "51154c44-b831-451e-a7d0-627e28f58728",
   "metadata": {},
   "outputs": [],
   "source": [
    "old_img=cv2.imread(\"images\\\\img4.png\")\n",
    "old_img=cv2.resize(old_img,(500,600))\n",
    "\n",
    "new_img=cv2.ellipse(img=old_img, \n",
    "                 axes=(95,120),\n",
    "                 center=(280,160),\n",
    "                 angle=30,\n",
    "                 startAngle=0,\n",
    "                 endAngle=360,   \n",
    "                 color=(0,255,0),\n",
    "                 thickness=4,\n",
    "                 # thickness=-1, # color fill in circle\n",
    "                 lineType=16)\n",
    "\n",
    "cv2.imshow(\"Window\",new_img)\n",
    "cv2.waitKey(0)\n",
    "cv2.destroyAllWindows()"
   ]
  },
  {
   "cell_type": "code",
   "execution_count": 8,
   "id": "b5fd799d-63d6-4686-98eb-0d05c745db66",
   "metadata": {},
   "outputs": [],
   "source": [
    "old_img=cv2.imread(\"images\\\\img4.png\")\n",
    "old_img=cv2.resize(old_img,(500,600))\n",
    "\n",
    "txt=cv2.putText(img=old_img,\n",
    "text=\"Disha\",\n",
    "org=(350,200),\n",
    "fontFace=cv2.FONT_HERSHEY_DUPLEX,\n",
    "fontScale=1,\n",
    "color=(0,0,255),\n",
    "thickness=1,\n",
    "lineType=cv2.LINE_8,\n",
    "bottomLeftOrigin=False)\n",
    "\n",
    "new_img=cv2.ellipse(img=txt, \n",
    "                 axes=(95,120),\n",
    "                 center=(280,160),\n",
    "                 angle=30,\n",
    "                 startAngle=0,\n",
    "                 endAngle=340,   \n",
    "                 color=(0,255,0),\n",
    "                 thickness=4,\n",
    "                 # thickness=-1, # color fill in circle\n",
    "                 lineType=16)\n",
    "\n",
    "cv2.imshow(\"Window\",new_img)\n",
    "cv2.waitKey(0)\n",
    "cv2.destroyAllWindows()"
   ]
  },
  {
   "cell_type": "code",
   "execution_count": null,
   "id": "53e2a45a-0bf5-43ac-8669-6c344b91d998",
   "metadata": {},
   "outputs": [],
   "source": []
  }
 ],
 "metadata": {
  "kernelspec": {
   "display_name": "Python 3 (ipykernel)",
   "language": "python",
   "name": "python3"
  },
  "language_info": {
   "codemirror_mode": {
    "name": "ipython",
    "version": 3
   },
   "file_extension": ".py",
   "mimetype": "text/x-python",
   "name": "python",
   "nbconvert_exporter": "python",
   "pygments_lexer": "ipython3",
   "version": "3.10.13"
  }
 },
 "nbformat": 4,
 "nbformat_minor": 5
}

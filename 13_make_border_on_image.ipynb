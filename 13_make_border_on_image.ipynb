{
 "cells": [
  {
   "cell_type": "code",
   "execution_count": 1,
   "id": "d53f9591-8f02-4a11-a16e-72b9fd2ca998",
   "metadata": {},
   "outputs": [],
   "source": [
    "import cv2\n",
    "import numpy as np"
   ]
  },
  {
   "cell_type": "code",
   "execution_count": 11,
   "id": "3ab0af6d-6d96-44a4-8b72-05a44c74f7ab",
   "metadata": {},
   "outputs": [
    {
     "name": "stdout",
     "output_type": "stream",
     "text": [
      "(300, 300, 3)\n"
     ]
    }
   ],
   "source": [
    "img=cv2.imread(\"images\\\\img6.png\")\n",
    "img=cv2.resize(img,(300,300))\n",
    "print(img.shape)\n",
    "\n",
    "# img1=cv2.copyMakeBorder(img,20,20,20,20,cv2.BORDER_CONSTANT,None,value=2)\n",
    "# img1=cv2.copyMakeBorder(img,20,20,20,20,cv2.BORDER_REFLECT,None,value=2)\n",
    "img1=cv2.copyMakeBorder(img,20,20,20,20,cv2.BORDER_REPLICATE)\n",
    "\n",
    "# print(img1.shape)\n",
    "# img1=cv2.resize(img1,(300,300))\n",
    "\n",
    "\n",
    "\n",
    "# h=np.hstack((img,img1))\n",
    "\n",
    "cv2.imshow(\"Window\",img1)\n",
    "cv2.waitKey(0)\n",
    "cv2.destroyAllWindows()"
   ]
  },
  {
   "cell_type": "code",
   "execution_count": null,
   "id": "59b73e01-049f-4ae9-8031-0a6c07fa7c2f",
   "metadata": {},
   "outputs": [],
   "source": []
  },
  {
   "cell_type": "code",
   "execution_count": null,
   "id": "b62f3b0c-c1e9-4ed6-b571-29bac555feef",
   "metadata": {},
   "outputs": [],
   "source": []
  }
 ],
 "metadata": {
  "kernelspec": {
   "display_name": "Python 3 (ipykernel)",
   "language": "python",
   "name": "python3"
  },
  "language_info": {
   "codemirror_mode": {
    "name": "ipython",
    "version": 3
   },
   "file_extension": ".py",
   "mimetype": "text/x-python",
   "name": "python",
   "nbconvert_exporter": "python",
   "pygments_lexer": "ipython3",
   "version": "3.10.13"
  }
 },
 "nbformat": 4,
 "nbformat_minor": 5
}

{
 "cells": [
  {
   "cell_type": "code",
   "execution_count": 2,
   "id": "c1adeb7f-a8e4-41cb-b3b9-8212b175f438",
   "metadata": {},
   "outputs": [],
   "source": [
    "import cv2\n",
    "import numpy as np"
   ]
  },
  {
   "cell_type": "code",
   "execution_count": 3,
   "id": "f1dc7c02-01df-4773-837c-4c6bb2c7f3c4",
   "metadata": {},
   "outputs": [],
   "source": [
    "# Background subtract from video\n",
    "org_v=cv2.VideoCapture(\"images\\\\tom.avi\")\n",
    "sub_m=cv2.createBackgroundSubtractorMOG2()\n",
    "while True:\n",
    "    r,frame=org_v.read()\n",
    "    if r==True:\n",
    "        sub_v=sub_m.apply(frame)\n",
    "        cv2.imshow(\"Orignal\",frame)\n",
    "        cv2.imshow(\"Subtracted\",sub_v)\n",
    "        if cv2.waitKey(25) & 0xff==ord(\"p\"):\n",
    "            break\n",
    "    else:\n",
    "        break\n",
    "org_v.release()\n",
    "cv2.destroyAllWindows()\n",
    "    "
   ]
  },
  {
   "cell_type": "code",
   "execution_count": 4,
   "id": "9f1b9354-6cf5-4ccf-9481-ebf169182421",
   "metadata": {},
   "outputs": [],
   "source": [
    "# Background subtract from video(Camera)\n",
    "org_v=cv2.VideoCapture(0)\n",
    "sub_m=cv2.createBackgroundSubtractorMOG2()\n",
    "while True:\n",
    "    r,frame=org_v.read()\n",
    "    if r==True:\n",
    "        sub_v=sub_m.apply(frame)\n",
    "        cv2.imshow(\"Orignal\",frame)\n",
    "        cv2.imshow(\"Subtracted\",sub_v)\n",
    "        if cv2.waitKey(25) & 0xff==ord(\"p\"):\n",
    "            break\n",
    "    else:\n",
    "        break\n",
    "org_v.release()\n",
    "cv2.destroyAllWindows()\n",
    "    "
   ]
  },
  {
   "cell_type": "code",
   "execution_count": 7,
   "id": "2b719b36-3b50-4177-8583-044a5c7fe26e",
   "metadata": {},
   "outputs": [],
   "source": [
    "# Background subtract from image\n",
    "org_v=cv2.imread(\"images\\\\img3.png\")\n",
    "sub_m=cv2.createBackgroundSubtractorMOG2()\n",
    "# while True:\n",
    "#     r,frame=org_v.read()\n",
    "#     if r==True:\n",
    "#         sub_v=sub_m.apply(frame)\n",
    "#         cv2.imshow(\"Orignal\",frame)\n",
    "#         cv2.imshow(\"Subtracted\",sub_v)\n",
    "#         if cv2.waitKey(25) & 0xff==ord(\"p\"):\n",
    "#             break\n",
    "#     else:\n",
    "#         break\n",
    "# org_v.release()\n",
    "new=sub_m.apply(org_v)\n",
    "cv2.imshow(\"Orignal\",org_v)\n",
    "cv2.imshow(\"Subtracted\",new)\n",
    "cv2.waitKey(0)\n",
    "cv2.destroyAllWindows()\n",
    "    "
   ]
  },
  {
   "cell_type": "code",
   "execution_count": null,
   "id": "846b186c-1d8e-4b33-8988-a51399a4a9b4",
   "metadata": {},
   "outputs": [],
   "source": []
  }
 ],
 "metadata": {
  "kernelspec": {
   "display_name": "Python 3 (ipykernel)",
   "language": "python",
   "name": "python3"
  },
  "language_info": {
   "codemirror_mode": {
    "name": "ipython",
    "version": 3
   },
   "file_extension": ".py",
   "mimetype": "text/x-python",
   "name": "python",
   "nbconvert_exporter": "python",
   "pygments_lexer": "ipython3",
   "version": "3.10.13"
  }
 },
 "nbformat": 4,
 "nbformat_minor": 5
}

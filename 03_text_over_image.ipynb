{
 "cells": [
  {
   "cell_type": "code",
   "execution_count": 1,
   "id": "80c39e7f-d6b7-4731-a1ab-cb3402d450c2",
   "metadata": {},
   "outputs": [],
   "source": [
    "import cv2"
   ]
  },
  {
   "cell_type": "code",
   "execution_count": 7,
   "id": "f2f451bd-c4f9-4710-83a5-075e9d56f149",
   "metadata": {},
   "outputs": [],
   "source": [
    "img_get=cv2.imread(\"images\\\\img3.png\")\n",
    "img_get=cv2.resize(img_get,(500,600))\n",
    "\n",
    "txt=cv2.putText(img=img_get,\n",
    "text=\"Vision\",\n",
    "org=(50,60),\n",
    "fontFace=cv2.FONT_HERSHEY_DUPLEX,\n",
    "fontScale=2,\n",
    "color=(0,255,0),\n",
    "thickness=2,\n",
    "lineType=cv2.LINE_8,\n",
    "bottomLeftOrigin=False)\n",
    "\n",
    "cv2.imshow(\"Window\",img_get)\n",
    "cv2.waitKey(0)\n",
    "cv2.destroyAllWindows()"
   ]
  },
  {
   "cell_type": "code",
   "execution_count": 10,
   "id": "c42f8356-b619-4053-9c3d-4e15feb0e2ab",
   "metadata": {},
   "outputs": [],
   "source": [
    "img_get=cv2.imread(\"images\\\\img3.png\")\n",
    "img_get=cv2.resize(img_get,(500,600))\n",
    "\n",
    "txt=cv2.putText(img=img_get,\n",
    "text=\"Vision\",\n",
    "org=(50,60),\n",
    "fontFace=cv2.FONT_HERSHEY_DUPLEX,\n",
    "fontScale=2,\n",
    "color=(0,255,0),\n",
    "thickness=2,\n",
    "lineType=cv2.LINE_8,\n",
    "bottomLeftOrigin=False)\n",
    "\n",
    "txt=cv2.putText(img=txt,\n",
    "text=\"Vision\",\n",
    "org=(50,70),\n",
    "fontFace=cv2.FONT_HERSHEY_DUPLEX,\n",
    "fontScale=2,\n",
    "color=(0,255,0),\n",
    "thickness=2,\n",
    "lineType=cv2.LINE_8,\n",
    "bottomLeftOrigin=True)\n",
    "\n",
    "cv2.imshow(\"Window\",img_get)\n",
    "cv2.waitKey(0)\n",
    "cv2.destroyAllWindows()"
   ]
  },
  {
   "cell_type": "code",
   "execution_count": null,
   "id": "46ee3571-f094-440f-b033-13e5d8ea6871",
   "metadata": {},
   "outputs": [],
   "source": []
  },
  {
   "cell_type": "code",
   "execution_count": null,
   "id": "9abc4bd0-eabe-40d5-a2f3-fe8ae6f59e75",
   "metadata": {},
   "outputs": [],
   "source": []
  }
 ],
 "metadata": {
  "kernelspec": {
   "display_name": "Python 3 (ipykernel)",
   "language": "python",
   "name": "python3"
  },
  "language_info": {
   "codemirror_mode": {
    "name": "ipython",
    "version": 3
   },
   "file_extension": ".py",
   "mimetype": "text/x-python",
   "name": "python",
   "nbconvert_exporter": "python",
   "pygments_lexer": "ipython3",
   "version": "3.10.13"
  }
 },
 "nbformat": 4,
 "nbformat_minor": 5
}

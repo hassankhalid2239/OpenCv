{
 "cells": [
  {
   "cell_type": "code",
   "execution_count": 1,
   "id": "c26edb59-27ca-4525-8e73-c2bf8f39cf22",
   "metadata": {},
   "outputs": [],
   "source": [
    "import cv2\n",
    "import numpy as np"
   ]
  },
  {
   "cell_type": "code",
   "execution_count": 3,
   "id": "24d7a866-0414-414d-becc-6d9faaccf7c0",
   "metadata": {},
   "outputs": [
    {
     "name": "stdout",
     "output_type": "stream",
     "text": [
      "(600, 500, 3)\n"
     ]
    }
   ],
   "source": [
    "img=cv2.imread(\"images\\\\img6.png\")\n",
    "img=cv2.resize(img,(500,600))\n",
    "print(img.shape)\n",
    "\n",
    "# img[y1:y2 , x1:x2]\n",
    "\n",
    "crop=img[120:180,200:400]\n",
    "\n",
    "cv2.imshow(\"Window\",img)\n",
    "cv2.imshow(\"Window1\",crop)\n",
    "cv2.waitKey(0)\n",
    "cv2.destroyAllWindows()"
   ]
  },
  {
   "cell_type": "code",
   "execution_count": null,
   "id": "cd61b453-dd3d-40c5-aa1f-9ea6c649f80e",
   "metadata": {},
   "outputs": [],
   "source": []
  }
 ],
 "metadata": {
  "kernelspec": {
   "display_name": "Python 3 (ipykernel)",
   "language": "python",
   "name": "python3"
  },
  "language_info": {
   "codemirror_mode": {
    "name": "ipython",
    "version": 3
   },
   "file_extension": ".py",
   "mimetype": "text/x-python",
   "name": "python",
   "nbconvert_exporter": "python",
   "pygments_lexer": "ipython3",
   "version": "3.10.13"
  }
 },
 "nbformat": 4,
 "nbformat_minor": 5
}

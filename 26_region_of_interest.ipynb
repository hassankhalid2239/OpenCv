{
 "cells": [
  {
   "cell_type": "code",
   "execution_count": 1,
   "id": "5d9b979b-dd4d-4947-a381-0dce20e5cfae",
   "metadata": {},
   "outputs": [],
   "source": [
    "import cv2\n",
    "import numpy as np"
   ]
  },
  {
   "cell_type": "code",
   "execution_count": 42,
   "id": "5636cac6-2821-4c1e-95ff-13097f1cb1e7",
   "metadata": {},
   "outputs": [],
   "source": [
    "img=cv2.imread(\"images\\\\img11.png\")\n",
    "\n",
    "crop=img[65:280,370:515]\n",
    "\n",
    "img[65:280,515:660]=crop  #right\n",
    "img[65:280,660:805]=crop  #right\n",
    "\n",
    "img[65:280,225:370]=crop  #left\n",
    "img[65:280,80:225]=crop\n",
    "\n",
    "cv2.imshow(\"Window1\",img)\n",
    "cv2.waitKey(0)\n",
    "cv2.destroyAllWindows()"
   ]
  },
  {
   "cell_type": "code",
   "execution_count": null,
   "id": "3a19244f-849a-4dd1-808c-9de17b73bc37",
   "metadata": {},
   "outputs": [],
   "source": []
  }
 ],
 "metadata": {
  "kernelspec": {
   "display_name": "Python 3 (ipykernel)",
   "language": "python",
   "name": "python3"
  },
  "language_info": {
   "codemirror_mode": {
    "name": "ipython",
    "version": 3
   },
   "file_extension": ".py",
   "mimetype": "text/x-python",
   "name": "python",
   "nbconvert_exporter": "python",
   "pygments_lexer": "ipython3",
   "version": "3.10.13"
  }
 },
 "nbformat": 4,
 "nbformat_minor": 5
}

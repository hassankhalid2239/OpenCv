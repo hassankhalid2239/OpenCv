{
 "cells": [
  {
   "cell_type": "code",
   "execution_count": 1,
   "id": "68f62816-bc15-4238-b559-0b422bb7c50f",
   "metadata": {},
   "outputs": [],
   "source": [
    "import cv2\n",
    "import numpy as np"
   ]
  },
  {
   "cell_type": "code",
   "execution_count": 9,
   "id": "15733f3c-fe65-43ec-9e3a-6414f8028857",
   "metadata": {},
   "outputs": [],
   "source": [
    "old_img=cv2.imread(\"images\\\\img3.png\")\n",
    "old_img=cv2.resize(old_img,(500,700))\n",
    "\n",
    "new_img=cv2.line(img=old_img, \n",
    "                 pt1=(150,190),\n",
    "                 pt2=(360,190),\n",
    "                 color=(0,255,0),\n",
    "                 thickness=4,\n",
    "                 lineType=4)\n",
    "\n",
    "cv2.imshow(\"Window\",new_img)\n",
    "cv2.waitKey(0)\n",
    "cv2.destroyAllWindows()"
   ]
  },
  {
   "cell_type": "code",
   "execution_count": 12,
   "id": "debca785-55a4-45ba-be93-d5fb46999834",
   "metadata": {},
   "outputs": [],
   "source": [
    "old_img=cv2.imread(\"images\\\\img3.png\")\n",
    "old_img=cv2.resize(old_img,(500,700))\n",
    "\n",
    "txt=cv2.putText(img=old_img,\n",
    "text=\"Ranbeer\",\n",
    "org=(100,45),\n",
    "fontFace=cv2.FONT_HERSHEY_DUPLEX,\n",
    "fontScale=1,\n",
    "color=(0,0,255),\n",
    "thickness=1,\n",
    "lineType=cv2.LINE_8,\n",
    "bottomLeftOrigin=False)\n",
    "\n",
    "new_img=cv2.rectangle(img=txt, \n",
    "                 pt1=(100,50),\n",
    "                 pt2=(430,470),\n",
    "                 color=(0,255,0),\n",
    "                 thickness=4,\n",
    "                 lineType=16)\n",
    "\n",
    "cv2.imshow(\"Window\",new_img)\n",
    "cv2.waitKey(0)\n",
    "cv2.destroyAllWindows()"
   ]
  },
  {
   "cell_type": "code",
   "execution_count": null,
   "id": "9606d751-a011-418f-ba3f-1bd8fa1f0378",
   "metadata": {},
   "outputs": [],
   "source": []
  },
  {
   "cell_type": "code",
   "execution_count": null,
   "id": "99530a65-9336-43f9-88a9-658acb562600",
   "metadata": {},
   "outputs": [],
   "source": []
  }
 ],
 "metadata": {
  "kernelspec": {
   "display_name": "Python 3 (ipykernel)",
   "language": "python",
   "name": "python3"
  },
  "language_info": {
   "codemirror_mode": {
    "name": "ipython",
    "version": 3
   },
   "file_extension": ".py",
   "mimetype": "text/x-python",
   "name": "python",
   "nbconvert_exporter": "python",
   "pygments_lexer": "ipython3",
   "version": "3.10.13"
  }
 },
 "nbformat": 4,
 "nbformat_minor": 5
}

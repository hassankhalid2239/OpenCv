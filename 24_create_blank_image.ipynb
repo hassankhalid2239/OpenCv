{
 "cells": [
  {
   "cell_type": "code",
   "execution_count": 1,
   "id": "0dacb404-5f65-4bb2-a43b-2655979c6264",
   "metadata": {},
   "outputs": [],
   "source": [
    "import cv2\n",
    "import numpy as np"
   ]
  },
  {
   "cell_type": "code",
   "execution_count": 2,
   "id": "d22842f6-30f1-43fc-999b-8590a6a27367",
   "metadata": {},
   "outputs": [
    {
     "name": "stdout",
     "output_type": "stream",
     "text": [
      "(600, 500, 3)\n"
     ]
    }
   ],
   "source": [
    "img=cv2.imread(\"images\\\\img6.png\")\n",
    "img=cv2.resize(img,(500,600))\n",
    "print(img.shape)"
   ]
  },
  {
   "cell_type": "code",
   "execution_count": 3,
   "id": "33f2940b-a943-4b1f-bddb-7382541e36f7",
   "metadata": {},
   "outputs": [],
   "source": [
    "new_img=np.ones((500,500,3),np.uint8)*255\n",
    "cv2.imshow(\"Window1\",new_img)\n",
    "cv2.waitKey(0)\n",
    "cv2.destroyAllWindows()"
   ]
  },
  {
   "cell_type": "code",
   "execution_count": 4,
   "id": "d8311f1b-858b-47cd-b934-3a40021c0c48",
   "metadata": {},
   "outputs": [],
   "source": [
    "new_img=np.zeros((500,500,3),np.uint8)*255\n",
    "cv2.imshow(\"Window1\",new_img)\n",
    "cv2.waitKey(0)\n",
    "cv2.destroyAllWindows()"
   ]
  },
  {
   "cell_type": "code",
   "execution_count": null,
   "id": "7a098f4e-c994-4a97-8134-ba30a3416f7e",
   "metadata": {},
   "outputs": [],
   "source": []
  }
 ],
 "metadata": {
  "kernelspec": {
   "display_name": "Python 3 (ipykernel)",
   "language": "python",
   "name": "python3"
  },
  "language_info": {
   "codemirror_mode": {
    "name": "ipython",
    "version": 3
   },
   "file_extension": ".py",
   "mimetype": "text/x-python",
   "name": "python",
   "nbconvert_exporter": "python",
   "pygments_lexer": "ipython3",
   "version": "3.10.13"
  }
 },
 "nbformat": 4,
 "nbformat_minor": 5
}

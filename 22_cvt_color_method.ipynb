{
 "cells": [
  {
   "cell_type": "code",
   "execution_count": 7,
   "id": "0799e189-959c-4b30-ad32-c335ab650cba",
   "metadata": {},
   "outputs": [],
   "source": [
    "import cv2"
   ]
  },
  {
   "cell_type": "code",
   "execution_count": 13,
   "id": "e5386007-d51b-44f0-b608-8c78c391368f",
   "metadata": {},
   "outputs": [],
   "source": [
    "org=cv2.imread(\"images\\\\img6.png\")\n",
    "org=cv2.resize(org,(500,500))\n",
    "\n",
    "# new=cv2.cvtColor(org,cv2.COLOR_BGR2GRAY)\n",
    "# new=cv2.cvtColor(org,cv2.COLOR_BGR2HSV)\n",
    "# new=cv2.cvtColor(org,cv2.COLOR_BGR2HLS)\n",
    "# new=cv2.cvtColor(org,cv2.COLOR_BGR2LUV)\n",
    "# new=cv2.cvtColor(org,cv2.COLOR_BGR2YUV)\n",
    "new=cv2.cvtColor(org,cv2.COLOR_BGR2YCrCb)\n",
    "\n",
    "cv2.imshow(\"Windows\",org)\n",
    "cv2.imshow(\"Windows1\",new)\n",
    "cv2.waitKey(0)\n",
    "cv2.destroyAllWindows()"
   ]
  },
  {
   "cell_type": "code",
   "execution_count": null,
   "id": "854f9bc5-710b-4123-861d-f1c9452ade27",
   "metadata": {},
   "outputs": [],
   "source": []
  }
 ],
 "metadata": {
  "kernelspec": {
   "display_name": "Python 3 (ipykernel)",
   "language": "python",
   "name": "python3"
  },
  "language_info": {
   "codemirror_mode": {
    "name": "ipython",
    "version": 3
   },
   "file_extension": ".py",
   "mimetype": "text/x-python",
   "name": "python",
   "nbconvert_exporter": "python",
   "pygments_lexer": "ipython3",
   "version": "3.10.13"
  }
 },
 "nbformat": 4,
 "nbformat_minor": 5
}

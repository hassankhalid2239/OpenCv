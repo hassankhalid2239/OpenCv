{
 "cells": [
  {
   "cell_type": "code",
   "execution_count": 1,
   "id": "48efa9ba-3c66-4a8a-b7d2-31a7fcf14db5",
   "metadata": {},
   "outputs": [],
   "source": [
    "import cv2\n",
    "import numpy as np"
   ]
  },
  {
   "cell_type": "code",
   "execution_count": 5,
   "id": "b11d527e-9601-4e31-9356-f46efd246bfd",
   "metadata": {},
   "outputs": [
    {
     "name": "stdout",
     "output_type": "stream",
     "text": [
      "(604, 501, 3)\n"
     ]
    }
   ],
   "source": [
    "img=cv2.imread(\"images\\\\img12.png\")\n",
    "\n",
    "# cv2.circle(img,(101,142),4,(0,0,255),-1)\n",
    "# cv2.circle(img,(385,142),4,(0,0,255),-1)\n",
    "# cv2.circle(img,(43,535),4,(0,0,255),-1)\n",
    "# cv2.circle(img,(496,514),4,(0,0,255),-1)\n",
    "print(img.shape)\n",
    "\n",
    "w,h=(501,604)\n",
    "\n",
    "scr1=np.float32([[101,142],[385,142],[43,535],[496,514]])\n",
    "dst1=np.float32([[0,0],[w,0],[0,h],[w,h]])\n",
    "m=cv2.getPerspectiveTransform(scr1,dst1)\n",
    "new=cv2.warpPerspective(img,m,(w,h))\n",
    "\n",
    "\n",
    "cv2.imshow(\"Window\",img)\n",
    "cv2.imshow(\"Window\",new)\n",
    "cv2.waitKey(0)\n",
    "cv2.destroyAllWindows()"
   ]
  },
  {
   "cell_type": "code",
   "execution_count": null,
   "id": "b9302061-826a-4a1b-a2b1-eee6ccbfcea5",
   "metadata": {},
   "outputs": [],
   "source": []
  }
 ],
 "metadata": {
  "kernelspec": {
   "display_name": "Python 3 (ipykernel)",
   "language": "python",
   "name": "python3"
  },
  "language_info": {
   "codemirror_mode": {
    "name": "ipython",
    "version": 3
   },
   "file_extension": ".py",
   "mimetype": "text/x-python",
   "name": "python",
   "nbconvert_exporter": "python",
   "pygments_lexer": "ipython3",
   "version": "3.10.13"
  }
 },
 "nbformat": 4,
 "nbformat_minor": 5
}

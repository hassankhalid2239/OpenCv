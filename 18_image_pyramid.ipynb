{
 "cells": [
  {
   "cell_type": "code",
   "execution_count": 1,
   "id": "2c12482f-6c6d-4f23-9cb5-a8fd08d1760b",
   "metadata": {},
   "outputs": [],
   "source": [
    "import cv2\n",
    "import numpy as np"
   ]
  },
  {
   "cell_type": "code",
   "execution_count": 4,
   "id": "61d02293-38c2-44bc-a153-040c31952e4f",
   "metadata": {},
   "outputs": [
    {
     "name": "stdout",
     "output_type": "stream",
     "text": [
      "(973, 634, 3)\n",
      "(487, 317, 3)\n",
      "(244, 159, 3)\n"
     ]
    }
   ],
   "source": [
    "img=cv2.imread(\"images\\\\img3.png\")\n",
    "print(img.shape)\n",
    "\n",
    "new=cv2.pyrDown(img)\n",
    "print(new.shape)\n",
    "\n",
    "new1=cv2.pyrDown(new)\n",
    "print(new1.shape)\n",
    "\n",
    "cv2.imshow(\"img\",img)\n",
    "cv2.imshow(\"new\",new)\n",
    "cv2.imshow(\"new1\",new1)\n",
    "cv2.waitKey(0)\n",
    "cv2.destroyAllWindows()"
   ]
  },
  {
   "cell_type": "code",
   "execution_count": 6,
   "id": "bf0bce5a-8673-41d2-98a4-dfc637e19854",
   "metadata": {},
   "outputs": [
    {
     "name": "stdout",
     "output_type": "stream",
     "text": [
      "(973, 634, 3)\n",
      "(487, 317, 3)\n",
      "(244, 159, 3)\n",
      "(488, 318, 3)\n"
     ]
    }
   ],
   "source": [
    "img=cv2.imread(\"images\\\\img3.png\")\n",
    "print(img.shape)\n",
    "\n",
    "new=cv2.pyrDown(img)\n",
    "print(new.shape)\n",
    "\n",
    "new1=cv2.pyrDown(new)\n",
    "print(new1.shape)\n",
    "\n",
    "big=cv2.pyrUp(new1)\n",
    "print(big.shape)\n",
    "\n",
    "cv2.imshow(\"new1\",new1)\n",
    "cv2.imshow(\"big\",big)\n",
    "cv2.waitKey(0)\n",
    "cv2.destroyAllWindows()"
   ]
  },
  {
   "cell_type": "code",
   "execution_count": null,
   "id": "f0c914f2-2fea-422f-a4b5-2f9b358a45a6",
   "metadata": {},
   "outputs": [],
   "source": []
  }
 ],
 "metadata": {
  "kernelspec": {
   "display_name": "Python 3 (ipykernel)",
   "language": "python",
   "name": "python3"
  },
  "language_info": {
   "codemirror_mode": {
    "name": "ipython",
    "version": 3
   },
   "file_extension": ".py",
   "mimetype": "text/x-python",
   "name": "python",
   "nbconvert_exporter": "python",
   "pygments_lexer": "ipython3",
   "version": "3.10.13"
  }
 },
 "nbformat": 4,
 "nbformat_minor": 5
}

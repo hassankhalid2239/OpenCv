{
 "cells": [
  {
   "cell_type": "code",
   "execution_count": 1,
   "id": "d0d08476-60c4-4717-bae3-0e8ec4f945ac",
   "metadata": {},
   "outputs": [],
   "source": [
    "import cv2\n",
    "import numpy as np"
   ]
  },
  {
   "cell_type": "code",
   "execution_count": null,
   "id": "417567c3-2338-4484-a0f1-d3a02de06c72",
   "metadata": {},
   "outputs": [],
   "source": [
    "# cv2.waitKey(x) agr x ki value 5 dein gy to iska matlab hai k her frame 5 milisecond \n",
    "# k baad show ho jis sy video ki speed fast ho jaye gi.\n",
    "\n",
    "# cv2.waitKey(x) agr x ki value 50 dein gy to iska matlab hai k her frame 50 milisecond \n",
    "# k baad show ho jis sy video ki speed slow ho jaye gi."
   ]
  },
  {
   "cell_type": "code",
   "execution_count": 2,
   "id": "84d6cd68-280f-4958-a880-ac89bde29686",
   "metadata": {},
   "outputs": [],
   "source": [
    "# Normal\n",
    "cap=cv2.VideoCapture(\"images\\\\tom.avi\")\n",
    "\n",
    "while cap.isOpened():\n",
    "    r,frame=cap.read()\n",
    "    if r== True:\n",
    "        cv2.imshow(\"Window\",frame)\n",
    "        if cv2.waitKey(25) & 0xff==ord(\"p\"):\n",
    "            break\n",
    "    else:\n",
    "        break\n",
    "cap.release()\n",
    "cv2.destroyAllWindows()"
   ]
  },
  {
   "cell_type": "code",
   "execution_count": 3,
   "id": "8711b340-6ea0-4afc-af45-8dc45dfeb34d",
   "metadata": {},
   "outputs": [],
   "source": [
    "# Fast\n",
    "cap=cv2.VideoCapture(\"images\\\\tom.avi\")\n",
    "\n",
    "while cap.isOpened():\n",
    "    r,frame=cap.read()\n",
    "    if r== True:\n",
    "        cv2.imshow(\"Window\",frame)\n",
    "        if cv2.waitKey(5) & 0xff==ord(\"p\"):\n",
    "            break\n",
    "    else:\n",
    "        break\n",
    "cap.release()\n",
    "cv2.destroyAllWindows()"
   ]
  },
  {
   "cell_type": "code",
   "execution_count": 5,
   "id": "24a310ba-a05d-4cc3-9403-4e5f45ba83ee",
   "metadata": {},
   "outputs": [],
   "source": [
    "# Slow\n",
    "cap=cv2.VideoCapture(\"images\\\\tom.avi\")\n",
    "\n",
    "while cap.isOpened():\n",
    "    r,frame=cap.read()\n",
    "    if r== True:\n",
    "        cv2.imshow(\"Window\",frame)\n",
    "        if cv2.waitKey(50) & 0xff==ord(\"p\"):\n",
    "            break\n",
    "    else:\n",
    "        break\n",
    "cap.release()\n",
    "cv2.destroyAllWindows()"
   ]
  },
  {
   "cell_type": "code",
   "execution_count": null,
   "id": "e2be8365-c2a6-40ef-9ab1-73662331718e",
   "metadata": {},
   "outputs": [],
   "source": []
  }
 ],
 "metadata": {
  "kernelspec": {
   "display_name": "Python 3 (ipykernel)",
   "language": "python",
   "name": "python3"
  },
  "language_info": {
   "codemirror_mode": {
    "name": "ipython",
    "version": 3
   },
   "file_extension": ".py",
   "mimetype": "text/x-python",
   "name": "python",
   "nbconvert_exporter": "python",
   "pygments_lexer": "ipython3",
   "version": "3.10.13"
  }
 },
 "nbformat": 4,
 "nbformat_minor": 5
}

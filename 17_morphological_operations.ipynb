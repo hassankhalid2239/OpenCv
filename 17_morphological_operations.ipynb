{
 "cells": [
  {
   "cell_type": "code",
   "execution_count": 1,
   "id": "06a2b981-f2f8-4b44-b0e9-ef03a6868cb8",
   "metadata": {},
   "outputs": [],
   "source": [
    "import cv2\n",
    "import numpy as np"
   ]
  },
  {
   "cell_type": "code",
   "execution_count": 6,
   "id": "fea14b9a-9ecf-4c25-bdb9-7427ca2c6c72",
   "metadata": {},
   "outputs": [],
   "source": [
    "# Eroision\n",
    "img=cv2.imread(\"images\\\\img8.png\")\n",
    "img=cv2.resize(img,(500,500))\n",
    "\n",
    "m=np.ones((10,10),np.int8)\n",
    "m\n",
    "\n",
    "er=cv2.erode(img,m,iterations=1)\n",
    "\n",
    "cv2.imshow(\"Window\",img)\n",
    "cv2.imshow(\"Window1\",er)\n",
    "cv2.waitKey(0)\n",
    "cv2.destroyAllWindows()"
   ]
  },
  {
   "cell_type": "code",
   "execution_count": 11,
   "id": "415a67dd-054f-42c5-811c-4e90106edf21",
   "metadata": {},
   "outputs": [],
   "source": [
    "# Dialation\n",
    "img=cv2.imread(\"images\\\\img8.png\")\n",
    "img=cv2.resize(img,(500,500))\n",
    "\n",
    "m=np.ones((10,10),np.int8)\n",
    "m\n",
    "\n",
    "di=cv2.dilate(img,m,iterations=1)\n",
    "\n",
    "cv2.imshow(\"Window\",img)\n",
    "cv2.imshow(\"Window1\",di)\n",
    "cv2.waitKey(0)\n",
    "cv2.destroyAllWindows()"
   ]
  },
  {
   "cell_type": "code",
   "execution_count": 13,
   "id": "68fa8fa9-c7f7-464c-a3d6-c480c305af16",
   "metadata": {},
   "outputs": [],
   "source": [
    "# Opening\n",
    "img=cv2.imread(\"images\\\\img9.png\")\n",
    "img=cv2.resize(img,(500,500))\n",
    "\n",
    "m=np.ones((10,10),np.int8)\n",
    "m\n",
    "\n",
    "op=cv2.morphologyEx(img,cv2.MORPH_OPEN,m,iterations=1)\n",
    "\n",
    "cv2.imshow(\"Window\",img)\n",
    "cv2.imshow(\"Window1\",op)\n",
    "cv2.waitKey(0)\n",
    "cv2.destroyAllWindows()"
   ]
  },
  {
   "cell_type": "code",
   "execution_count": 15,
   "id": "b9b9b760-f8ee-446e-ab10-a36755b4cba7",
   "metadata": {},
   "outputs": [],
   "source": [
    "# Clossing\n",
    "img=cv2.imread(\"images\\\\img10.png\")\n",
    "img=cv2.resize(img,(500,500))\n",
    "\n",
    "m=np.ones((10,10),np.int8)\n",
    "m\n",
    "\n",
    "cl=cv2.morphologyEx(img,cv2.MORPH_CLOSE,m,iterations=1)\n",
    "\n",
    "cv2.imshow(\"Window\",img)\n",
    "cv2.imshow(\"Window1\",cl)\n",
    "cv2.waitKey(0)\n",
    "cv2.destroyAllWindows()"
   ]
  },
  {
   "cell_type": "code",
   "execution_count": 17,
   "id": "dfcbcbc0-62cc-4c05-8250-7a421463bc16",
   "metadata": {},
   "outputs": [],
   "source": [
    "# Morphological Gradient\n",
    "img=cv2.imread(\"images\\\\img8.png\")\n",
    "img=cv2.resize(img,(500,500))\n",
    "\n",
    "m=np.ones((10,10),np.int8)\n",
    "m\n",
    "\n",
    "gr=cv2.morphologyEx(img,cv2.MORPH_GRADIENT,m,iterations=1)\n",
    "\n",
    "cv2.imshow(\"Window\",img)\n",
    "cv2.imshow(\"Window1\",gr)\n",
    "cv2.waitKey(0)\n",
    "cv2.destroyAllWindows()"
   ]
  },
  {
   "cell_type": "code",
   "execution_count": 22,
   "id": "4b442f54-8a8d-43ed-86f4-e207467c3a9e",
   "metadata": {},
   "outputs": [],
   "source": [
    "# Top Hat/White Hat\n",
    "img=cv2.imread(\"images\\\\img8.png\")\n",
    "img=cv2.resize(img,(500,500))\n",
    "\n",
    "m=np.ones((30,30),np.int8)\n",
    "m\n",
    "\n",
    "tp=cv2.morphologyEx(img,cv2.MORPH_TOPHAT,m,iterations=1)\n",
    "\n",
    "cv2.imshow(\"Window\",img)\n",
    "cv2.imshow(\"Window1\",tp)\n",
    "cv2.waitKey(0)\n",
    "cv2.destroyAllWindows()"
   ]
  },
  {
   "cell_type": "code",
   "execution_count": 24,
   "id": "ee585316-898a-4f0a-bbb9-969287ec2ca6",
   "metadata": {},
   "outputs": [],
   "source": [
    "# Black Hat\n",
    "img=cv2.imread(\"images\\\\img8.png\")\n",
    "img=cv2.resize(img,(500,500))\n",
    "\n",
    "m=np.ones((40,40),np.int8)\n",
    "m\n",
    "\n",
    "bt=cv2.morphologyEx(img,cv2.MORPH_BLACKHAT,m,iterations=1)\n",
    "\n",
    "cv2.imshow(\"Window\",img)\n",
    "cv2.imshow(\"Window1\",bt)\n",
    "cv2.waitKey(0)\n",
    "cv2.destroyAllWindows()"
   ]
  },
  {
   "cell_type": "code",
   "execution_count": null,
   "id": "dcbb2f17-e2bb-42c1-96a9-792e84371a86",
   "metadata": {},
   "outputs": [],
   "source": []
  }
 ],
 "metadata": {
  "kernelspec": {
   "display_name": "Python 3 (ipykernel)",
   "language": "python",
   "name": "python3"
  },
  "language_info": {
   "codemirror_mode": {
    "name": "ipython",
    "version": 3
   },
   "file_extension": ".py",
   "mimetype": "text/x-python",
   "name": "python",
   "nbconvert_exporter": "python",
   "pygments_lexer": "ipython3",
   "version": "3.10.13"
  }
 },
 "nbformat": 4,
 "nbformat_minor": 5
}

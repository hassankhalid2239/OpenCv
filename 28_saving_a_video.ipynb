{
 "cells": [
  {
   "cell_type": "code",
   "execution_count": 1,
   "id": "36fdbc60-1189-42ce-8728-2a1759c7153a",
   "metadata": {},
   "outputs": [],
   "source": [
    "import cv2\n",
    "import numpy as np"
   ]
  },
  {
   "cell_type": "code",
   "execution_count": 2,
   "id": "40f4d333-21f2-4784-be56-c257a2693a2e",
   "metadata": {},
   "outputs": [],
   "source": [
    "# Save colored video\n",
    "\n",
    "cap=cv2.VideoCapture(0)\n",
    "\n",
    "f=cv2.VideoWriter_fourcc(*\"XVID\")\n",
    "out=cv2.VideoWriter(\"images\\\\record.mp4\",f,40.0,(640,480))  #40 is frame rate\n",
    "\n",
    "while cap.isOpened():\n",
    "    r,frame=cap.read()\n",
    "    if r==True:\n",
    "        frame=cv2.flip(frame,1)\n",
    "        out.write(frame)\n",
    "        cv2.imshow(\"Camera\",frame)\n",
    "        if cv2.waitKey(25) & 0xff ==ord(\"p\"):\n",
    "            break\n",
    "    else:\n",
    "        break\n",
    "\n",
    "cap.release()\n",
    "out.release()\n",
    "cv2.destroyAllWindows()"
   ]
  },
  {
   "cell_type": "code",
   "execution_count": 4,
   "id": "3d4ea3ee-61b8-4427-960b-b90af5d1fa67",
   "metadata": {},
   "outputs": [],
   "source": [
    "# Save grayscale video\n",
    "\n",
    "cap=cv2.VideoCapture(0)\n",
    "\n",
    "f=cv2.VideoWriter_fourcc(*\"XVID\")\n",
    "out=cv2.VideoWriter(\"images\\\\record.mp4\",f,25.0,(640,480))  #40 is frame rate\n",
    "\n",
    "while cap.isOpened():\n",
    "    r,frame=cap.read()\n",
    "    if r==True:\n",
    "        frame=cv2.cvtColor(frame,cv2.COLOR_BGR2GRAY)\n",
    "        frame=cv2.flip(frame,1)\n",
    "        out.write(frame)\n",
    "        cv2.imshow(\"Camera\",frame)\n",
    "        if cv2.waitKey(25) & 0xff ==ord(\"p\"):\n",
    "            break\n",
    "    else:\n",
    "        break\n",
    "\n",
    "cap.release()\n",
    "out.release()\n",
    "cv2.destroyAllWindows()"
   ]
  },
  {
   "cell_type": "code",
   "execution_count": null,
   "id": "8ff006d3-6e74-49df-a31b-6b937455ff2a",
   "metadata": {},
   "outputs": [],
   "source": []
  }
 ],
 "metadata": {
  "kernelspec": {
   "display_name": "Python 3 (ipykernel)",
   "language": "python",
   "name": "python3"
  },
  "language_info": {
   "codemirror_mode": {
    "name": "ipython",
    "version": 3
   },
   "file_extension": ".py",
   "mimetype": "text/x-python",
   "name": "python",
   "nbconvert_exporter": "python",
   "pygments_lexer": "ipython3",
   "version": "3.10.13"
  }
 },
 "nbformat": 4,
 "nbformat_minor": 5
}

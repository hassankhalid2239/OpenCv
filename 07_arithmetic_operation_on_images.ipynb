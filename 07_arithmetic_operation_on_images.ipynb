{
 "cells": [
  {
   "cell_type": "code",
   "execution_count": 1,
   "id": "58de0df2-2a4b-4c12-9299-d58ade1b4df4",
   "metadata": {},
   "outputs": [],
   "source": [
    "import cv2\n",
    "import numpy as np"
   ]
  },
  {
   "cell_type": "code",
   "execution_count": 8,
   "id": "842c5a97-1af2-4404-8a5e-fddc4e527a50",
   "metadata": {},
   "outputs": [],
   "source": [
    "img1=cv2.imread(\"images\\\\img3.png\")\n",
    "img2=cv2.imread(\"images\\\\img4.png\")\n",
    "img1=cv2.resize(img1,(500,500))\n",
    "img2=cv2.resize(img2,(500,500))\n",
    "\n",
    "# new_img=cv2.addWeighted(img1,0.5,img2,1,1)\n",
    "new_img=cv2.subtract(img1,img2)\n",
    "\n",
    "cv2.imshow(\"Window\",new_img)\n",
    "cv2.waitKey(0)\n",
    "cv2.destroyAllWindows()"
   ]
  },
  {
   "cell_type": "code",
   "execution_count": null,
   "id": "eff9b013-1f86-4e9f-a982-82d2f3d36323",
   "metadata": {},
   "outputs": [],
   "source": []
  },
  {
   "cell_type": "code",
   "execution_count": null,
   "id": "c1c02950-1c6d-4f4d-b96c-da72d26894d0",
   "metadata": {},
   "outputs": [],
   "source": []
  }
 ],
 "metadata": {
  "kernelspec": {
   "display_name": "Python 3 (ipykernel)",
   "language": "python",
   "name": "python3"
  },
  "language_info": {
   "codemirror_mode": {
    "name": "ipython",
    "version": 3
   },
   "file_extension": ".py",
   "mimetype": "text/x-python",
   "name": "python",
   "nbconvert_exporter": "python",
   "pygments_lexer": "ipython3",
   "version": "3.10.13"
  }
 },
 "nbformat": 4,
 "nbformat_minor": 5
}
